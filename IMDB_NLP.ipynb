{
  "nbformat": 4,
  "nbformat_minor": 0,
  "metadata": {
    "colab": {
      "name": "IMDB_NLP.ipynb",
      "provenance": [],
      "collapsed_sections": []
    },
    "kernelspec": {
      "name": "python3",
      "display_name": "Python 3"
    },
    "accelerator": "GPU"
  },
  "cells": [
    {
      "cell_type": "code",
      "metadata": {
        "id": "SV6sflPqAaD3"
      },
      "source": [
        "# Basic\n",
        "import pandas as pd\n",
        "import numpy as np\n",
        "\n",
        "# Sklearn\n",
        "from sklearn.model_selection import train_test_split\n",
        "from sklearn.utils import shuffle\n",
        "\n",
        "# ML/DL\n",
        "import keras\n",
        "from keras.models import Sequential\n",
        "from keras.layers import Embedding, LSTM, concatenate, Dense, Dropout\n",
        "from keras.utils import plot_model\n",
        "\n",
        "# IMDB\n",
        "from keras.datasets import imdb"
      ],
      "execution_count": 1,
      "outputs": []
    },
    {
      "cell_type": "code",
      "metadata": {
        "id": "mHeHJ6Zre4-y",
        "outputId": "645a9610-db66-4ae8-8777-eb441723b989",
        "colab": {
          "base_uri": "https://localhost:8080/"
        }
      },
      "source": [
        "# 僅保留訓練資料集前10000個最常出現的單詞，捨棄低頻的單詞\n",
        "(train_data,train_labels),(test_data,test_labels) = imdb.load_data(num_words=10000)\n",
        "\n",
        "print(train_data.shape)\n",
        "print(train_labels.shape)\n",
        "print(test_data.shape)\n",
        "print(test_labels.shape)"
      ],
      "execution_count": 2,
      "outputs": [
        {
          "output_type": "stream",
          "text": [
            "(25000,)\n",
            "(25000,)\n",
            "(25000,)\n",
            "(25000,)\n"
          ],
          "name": "stdout"
        }
      ]
    },
    {
      "cell_type": "code",
      "metadata": {
        "id": "ZLKtumcibyhk",
        "outputId": "e604ae78-96e7-4b50-b1e9-99f75fcafc88",
        "colab": {
          "base_uri": "https://localhost:8080/",
          "height": 52
        }
      },
      "source": [
        "# 看第一筆load進來的train_data的前十個字，已經做好text_to_sequence\n",
        "display(train_data[0][0:10])\n",
        "# 看第一筆train_labels的資料，0:負評,1:正評\n",
        "display(train_labels[0])"
      ],
      "execution_count": 3,
      "outputs": [
        {
          "output_type": "display_data",
          "data": {
            "text/plain": [
              "[1, 14, 22, 16, 43, 530, 973, 1622, 1385, 65]"
            ]
          },
          "metadata": {
            "tags": []
          }
        },
        {
          "output_type": "display_data",
          "data": {
            "text/plain": [
              "1"
            ]
          },
          "metadata": {
            "tags": []
          }
        }
      ]
    },
    {
      "cell_type": "code",
      "metadata": {
        "id": "rsjdiiLEkTIy",
        "outputId": "13270dac-6908-4bb4-ffd4-a90212bd8fc9",
        "colab": {
          "base_uri": "https://localhost:8080/"
        }
      },
      "source": [
        "test_data"
      ],
      "execution_count": 4,
      "outputs": [
        {
          "output_type": "execute_result",
          "data": {
            "text/plain": [
              "array([list([1, 591, 202, 14, 31, 6, 717, 10, 10, 2, 2, 5, 4, 360, 7, 4, 177, 5760, 394, 354, 4, 123, 9, 1035, 1035, 1035, 10, 10, 13, 92, 124, 89, 488, 7944, 100, 28, 1668, 14, 31, 23, 27, 7479, 29, 220, 468, 8, 124, 14, 286, 170, 8, 157, 46, 5, 27, 239, 16, 179, 2, 38, 32, 25, 7944, 451, 202, 14, 6, 717]),\n",
              "       list([1, 14, 22, 3443, 6, 176, 7, 5063, 88, 12, 2679, 23, 1310, 5, 109, 943, 4, 114, 9, 55, 606, 5, 111, 7, 4, 139, 193, 273, 23, 4, 172, 270, 11, 7216, 2, 4, 8463, 2801, 109, 1603, 21, 4, 22, 3861, 8, 6, 1193, 1330, 10, 10, 4, 105, 987, 35, 841, 2, 19, 861, 1074, 5, 1987, 2, 45, 55, 221, 15, 670, 5304, 526, 14, 1069, 4, 405, 5, 2438, 7, 27, 85, 108, 131, 4, 5045, 5304, 3884, 405, 9, 3523, 133, 5, 50, 13, 104, 51, 66, 166, 14, 22, 157, 9, 4, 530, 239, 34, 8463, 2801, 45, 407, 31, 7, 41, 3778, 105, 21, 59, 299, 12, 38, 950, 5, 4521, 15, 45, 629, 488, 2733, 127, 6, 52, 292, 17, 4, 6936, 185, 132, 1988, 5304, 1799, 488, 2693, 47, 6, 392, 173, 4, 2, 4378, 270, 2352, 4, 1500, 7, 4, 65, 55, 73, 11, 346, 14, 20, 9, 6, 976, 2078, 7, 5293, 861, 2, 5, 4182, 30, 3127, 2, 56, 4, 841, 5, 990, 692, 8, 4, 1669, 398, 229, 10, 10, 13, 2822, 670, 5304, 14, 9, 31, 7, 27, 111, 108, 15, 2033, 19, 7836, 1429, 875, 551, 14, 22, 9, 1193, 21, 45, 4829, 5, 45, 252, 8, 2, 6, 565, 921, 3639, 39, 4, 529, 48, 25, 181, 8, 67, 35, 1732, 22, 49, 238, 60, 135, 1162, 14, 9, 290, 4, 58, 10, 10, 472, 45, 55, 878, 8, 169, 11, 374, 5687, 25, 203, 28, 8, 818, 12, 125, 4, 3077]),\n",
              "       list([1, 111, 748, 4368, 1133, 2, 2, 4, 87, 1551, 1262, 7, 31, 318, 9459, 7, 4, 498, 5076, 748, 63, 29, 5161, 220, 686, 2, 5, 17, 12, 575, 220, 2507, 17, 6, 185, 132, 2, 16, 53, 928, 11, 2, 74, 4, 438, 21, 27, 2, 589, 8, 22, 107, 2, 2, 997, 1638, 8, 35, 2076, 9019, 11, 22, 231, 54, 29, 1706, 29, 100, 2, 2425, 34, 2, 8738, 2, 5, 2, 98, 31, 2122, 33, 6, 58, 14, 3808, 1638, 8, 4, 365, 7, 2789, 3761, 356, 346, 4, 2, 1060, 63, 29, 93, 11, 5421, 11, 2, 33, 6, 58, 54, 1270, 431, 748, 7, 32, 2580, 16, 11, 94, 2, 10, 10, 4, 993, 2, 7, 4, 1766, 2634, 2164, 2, 8, 847, 8, 1450, 121, 31, 7, 27, 86, 2663, 2, 16, 6, 465, 993, 2006, 2, 573, 17, 2, 42, 4, 2, 37, 473, 6, 711, 6, 8869, 7, 328, 212, 70, 30, 258, 11, 220, 32, 7, 108, 21, 133, 12, 9, 55, 465, 849, 3711, 53, 33, 2071, 1969, 37, 70, 1144, 4, 5940, 1409, 74, 476, 37, 62, 91, 1329, 169, 4, 1330, 2, 146, 655, 2212, 5, 258, 12, 184, 2, 546, 5, 849, 2, 7, 4, 22, 1436, 18, 631, 1386, 797, 7, 4, 8712, 71, 348, 425, 4320, 1061, 19, 2, 5, 2, 11, 661, 8, 339, 2, 4, 2455, 2, 7, 4, 1962, 10, 10, 263, 787, 9, 270, 11, 6, 9466, 4, 2, 2, 121, 4, 5437, 26, 4434, 19, 68, 1372, 5, 28, 446, 6, 318, 7149, 8, 67, 51, 36, 70, 81, 8, 4392, 2294, 36, 1197, 8, 2, 2, 18, 6, 711, 4, 9909, 26, 2, 1125, 11, 14, 636, 720, 12, 426, 28, 77, 776, 8, 97, 38, 111, 7489, 6175, 168, 1239, 5189, 137, 2, 18, 27, 173, 9, 2399, 17, 6, 2, 428, 2, 232, 11, 4, 8014, 37, 272, 40, 2708, 247, 30, 656, 6, 2, 54, 2, 3292, 98, 6, 2840, 40, 558, 37, 6093, 98, 4, 2, 1197, 15, 14, 9, 57, 4893, 5, 4659, 6, 275, 711, 7937, 2, 3292, 98, 6, 2, 10, 10, 6639, 19, 14, 2, 267, 162, 711, 37, 5900, 752, 98, 4, 2, 2378, 90, 19, 6, 2, 7, 2, 1810, 2, 4, 4770, 3183, 930, 8, 508, 90, 4, 1317, 8, 4, 2, 17, 2, 3965, 1853, 4, 1494, 8, 4468, 189, 4, 2, 6287, 5774, 4, 4770, 5, 95, 271, 23, 6, 7742, 6063, 2, 5437, 33, 1526, 6, 425, 3155, 2, 4535, 1636, 7, 4, 4669, 2, 469, 4, 4552, 54, 4, 150, 5664, 2, 280, 53, 2, 2, 18, 339, 29, 1978, 27, 7885, 5, 2, 68, 1830, 19, 6571, 2, 4, 1515, 7, 263, 65, 2132, 34, 6, 5680, 7489, 43, 159, 29, 9, 4706, 9, 387, 73, 195, 584, 10, 10, 1069, 4, 58, 810, 54, 14, 6078, 117, 22, 16, 93, 5, 1069, 4, 192, 15, 12, 16, 93, 34, 6, 1766, 2, 33, 4, 5673, 7, 15, 2, 9252, 3286, 325, 12, 62, 30, 776, 8, 67, 14, 17, 6, 2, 44, 148, 687, 2, 203, 42, 203, 24, 28, 69, 2, 6676, 11, 330, 54, 29, 93, 2, 21, 845, 2, 27, 1099, 7, 819, 4, 22, 1407, 17, 6, 2, 787, 7, 2460, 2, 2, 100, 30, 4, 3737, 3617, 3169, 2321, 42, 1898, 11, 4, 3814, 42, 101, 704, 7, 101, 999, 15, 1625, 94, 2926, 180, 5, 9, 9101, 34, 2, 45, 6, 1429, 22, 60, 6, 1220, 31, 11, 94, 6408, 96, 21, 94, 749, 9, 57, 975]),\n",
              "       ...,\n",
              "       list([1, 13, 1408, 15, 8, 135, 14, 9, 35, 32, 46, 394, 20, 62, 30, 5093, 21, 45, 184, 78, 4, 1492, 910, 769, 2290, 2515, 395, 4257, 5, 1454, 11, 119, 2, 89, 1036, 4, 116, 218, 78, 21, 407, 100, 30, 128, 262, 15, 7, 185, 2280, 284, 1842, 2, 37, 315, 4, 226, 20, 272, 2942, 40, 29, 152, 60, 181, 8, 30, 50, 553, 362, 80, 119, 12, 21, 846, 5518]),\n",
              "       list([1, 11, 119, 241, 9, 4, 840, 20, 12, 468, 15, 94, 3684, 562, 791, 39, 4, 86, 107, 8, 97, 14, 31, 33, 4, 2960, 7, 743, 46, 1028, 9, 3531, 5, 4, 768, 47, 8, 79, 90, 145, 164, 162, 50, 6, 501, 119, 7, 9, 4, 78, 232, 15, 16, 224, 11, 4, 333, 20, 4, 985, 200, 5, 2, 5, 9, 1861, 8, 79, 357, 4, 20, 47, 220, 57, 206, 139, 11, 12, 5, 55, 117, 212, 13, 1276, 92, 124, 51, 45, 1188, 71, 536, 13, 520, 14, 20, 6, 2302, 7, 470]),\n",
              "       list([1, 6, 52, 7465, 430, 22, 9, 220, 2594, 8, 28, 2, 519, 3227, 6, 769, 15, 47, 6, 3482, 4067, 8, 114, 5, 33, 222, 31, 55, 184, 704, 5586, 2, 19, 346, 3153, 5, 6, 364, 350, 4, 184, 5586, 9, 133, 1810, 11, 5417, 2, 21, 4, 7298, 2, 570, 50, 2005, 2643, 9, 6, 1249, 17, 6, 2, 2, 21, 17, 6, 1211, 232, 1138, 2249, 29, 266, 56, 96, 346, 194, 308, 9, 194, 21, 29, 218, 1078, 19, 4, 78, 173, 7, 27, 2, 5698, 3406, 718, 2, 9, 6, 6907, 17, 210, 5, 3281, 5677, 47, 77, 395, 14, 172, 173, 18, 2740, 2931, 4517, 82, 127, 27, 173, 11, 6, 392, 217, 21, 50, 9, 57, 65, 12, 2, 53, 40, 35, 390, 7, 11, 4, 3567, 7, 4, 314, 74, 6, 792, 22, 2, 19, 714, 727, 5205, 382, 4, 91, 6533, 439, 19, 14, 20, 9, 1441, 5805, 1118, 4, 756, 25, 124, 4, 31, 12, 16, 93, 804, 34, 2005, 2643])],\n",
              "      dtype=object)"
            ]
          },
          "metadata": {
            "tags": []
          },
          "execution_count": 4
        }
      ]
    },
    {
      "cell_type": "code",
      "metadata": {
        "id": "45YfD0zrhyw_",
        "outputId": "cb6edc4f-cb79-412a-cb28-54b88cc9ec7b",
        "colab": {
          "base_uri": "https://localhost:8080/",
          "height": 408
        }
      },
      "source": [
        "df = pd.DataFrame()\n",
        "df['TRAIN_text_to_sequence'] = train_data\n",
        "df['TEST_text_to_sequence'] = test_data\n",
        "df"
      ],
      "execution_count": 5,
      "outputs": [
        {
          "output_type": "execute_result",
          "data": {
            "text/html": [
              "<div>\n",
              "<style scoped>\n",
              "    .dataframe tbody tr th:only-of-type {\n",
              "        vertical-align: middle;\n",
              "    }\n",
              "\n",
              "    .dataframe tbody tr th {\n",
              "        vertical-align: top;\n",
              "    }\n",
              "\n",
              "    .dataframe thead th {\n",
              "        text-align: right;\n",
              "    }\n",
              "</style>\n",
              "<table border=\"1\" class=\"dataframe\">\n",
              "  <thead>\n",
              "    <tr style=\"text-align: right;\">\n",
              "      <th></th>\n",
              "      <th>TRAIN_text_to_sequence</th>\n",
              "      <th>TEST_text_to_sequence</th>\n",
              "    </tr>\n",
              "  </thead>\n",
              "  <tbody>\n",
              "    <tr>\n",
              "      <th>0</th>\n",
              "      <td>[1, 14, 22, 16, 43, 530, 973, 1622, 1385, 65, ...</td>\n",
              "      <td>[1, 591, 202, 14, 31, 6, 717, 10, 10, 2, 2, 5,...</td>\n",
              "    </tr>\n",
              "    <tr>\n",
              "      <th>1</th>\n",
              "      <td>[1, 194, 1153, 194, 8255, 78, 228, 5, 6, 1463,...</td>\n",
              "      <td>[1, 14, 22, 3443, 6, 176, 7, 5063, 88, 12, 267...</td>\n",
              "    </tr>\n",
              "    <tr>\n",
              "      <th>2</th>\n",
              "      <td>[1, 14, 47, 8, 30, 31, 7, 4, 249, 108, 7, 4, 5...</td>\n",
              "      <td>[1, 111, 748, 4368, 1133, 2, 2, 4, 87, 1551, 1...</td>\n",
              "    </tr>\n",
              "    <tr>\n",
              "      <th>3</th>\n",
              "      <td>[1, 4, 2, 2, 33, 2804, 4, 2040, 432, 111, 153,...</td>\n",
              "      <td>[1, 13, 1228, 119, 14, 552, 7, 20, 190, 14, 58...</td>\n",
              "    </tr>\n",
              "    <tr>\n",
              "      <th>4</th>\n",
              "      <td>[1, 249, 1323, 7, 61, 113, 10, 10, 13, 1637, 1...</td>\n",
              "      <td>[1, 40, 49, 85, 84, 1040, 146, 6, 783, 254, 43...</td>\n",
              "    </tr>\n",
              "    <tr>\n",
              "      <th>...</th>\n",
              "      <td>...</td>\n",
              "      <td>...</td>\n",
              "    </tr>\n",
              "    <tr>\n",
              "      <th>24995</th>\n",
              "      <td>[1, 14, 9, 6, 2758, 20, 21, 1517, 7, 2078, 5, ...</td>\n",
              "      <td>[1, 4, 274, 9, 128, 74, 4, 22, 669, 88, 7, 4, ...</td>\n",
              "    </tr>\n",
              "    <tr>\n",
              "      <th>24996</th>\n",
              "      <td>[1, 4679, 2784, 299, 6, 1042, 37, 80, 81, 233,...</td>\n",
              "      <td>[1, 4, 9212, 2293, 8, 126, 67, 6, 4210, 1494, ...</td>\n",
              "    </tr>\n",
              "    <tr>\n",
              "      <th>24997</th>\n",
              "      <td>[1, 11, 6, 230, 245, 6401, 9, 6, 1225, 446, 2,...</td>\n",
              "      <td>[1, 13, 1408, 15, 8, 135, 14, 9, 35, 32, 46, 3...</td>\n",
              "    </tr>\n",
              "    <tr>\n",
              "      <th>24998</th>\n",
              "      <td>[1, 1446, 7079, 69, 72, 3305, 13, 610, 930, 8,...</td>\n",
              "      <td>[1, 11, 119, 241, 9, 4, 840, 20, 12, 468, 15, ...</td>\n",
              "    </tr>\n",
              "    <tr>\n",
              "      <th>24999</th>\n",
              "      <td>[1, 17, 6, 194, 337, 7, 4, 204, 22, 45, 254, 8...</td>\n",
              "      <td>[1, 6, 52, 7465, 430, 22, 9, 220, 2594, 8, 28,...</td>\n",
              "    </tr>\n",
              "  </tbody>\n",
              "</table>\n",
              "<p>25000 rows × 2 columns</p>\n",
              "</div>"
            ],
            "text/plain": [
              "                                  TRAIN_text_to_sequence                              TEST_text_to_sequence\n",
              "0      [1, 14, 22, 16, 43, 530, 973, 1622, 1385, 65, ...  [1, 591, 202, 14, 31, 6, 717, 10, 10, 2, 2, 5,...\n",
              "1      [1, 194, 1153, 194, 8255, 78, 228, 5, 6, 1463,...  [1, 14, 22, 3443, 6, 176, 7, 5063, 88, 12, 267...\n",
              "2      [1, 14, 47, 8, 30, 31, 7, 4, 249, 108, 7, 4, 5...  [1, 111, 748, 4368, 1133, 2, 2, 4, 87, 1551, 1...\n",
              "3      [1, 4, 2, 2, 33, 2804, 4, 2040, 432, 111, 153,...  [1, 13, 1228, 119, 14, 552, 7, 20, 190, 14, 58...\n",
              "4      [1, 249, 1323, 7, 61, 113, 10, 10, 13, 1637, 1...  [1, 40, 49, 85, 84, 1040, 146, 6, 783, 254, 43...\n",
              "...                                                  ...                                                ...\n",
              "24995  [1, 14, 9, 6, 2758, 20, 21, 1517, 7, 2078, 5, ...  [1, 4, 274, 9, 128, 74, 4, 22, 669, 88, 7, 4, ...\n",
              "24996  [1, 4679, 2784, 299, 6, 1042, 37, 80, 81, 233,...  [1, 4, 9212, 2293, 8, 126, 67, 6, 4210, 1494, ...\n",
              "24997  [1, 11, 6, 230, 245, 6401, 9, 6, 1225, 446, 2,...  [1, 13, 1408, 15, 8, 135, 14, 9, 35, 32, 46, 3...\n",
              "24998  [1, 1446, 7079, 69, 72, 3305, 13, 610, 930, 8,...  [1, 11, 119, 241, 9, 4, 840, 20, 12, 468, 15, ...\n",
              "24999  [1, 17, 6, 194, 337, 7, 4, 204, 22, 45, 254, 8...  [1, 6, 52, 7465, 430, 22, 9, 220, 2594, 8, 28,...\n",
              "\n",
              "[25000 rows x 2 columns]"
            ]
          },
          "metadata": {
            "tags": []
          },
          "execution_count": 5
        }
      ]
    },
    {
      "cell_type": "code",
      "metadata": {
        "id": "yeQZlzvPPRoH"
      },
      "source": [
        "# 下載IMDB的字典 word_index -> word:index\n",
        "word_index = imdb.get_word_index()\n",
        "\n",
        "# 鍵值對調 reverse_word_index -> index:word\n",
        "reverse_word_index = {value:key for key,value in word_index.items()}"
      ],
      "execution_count": 6,
      "outputs": []
    },
    {
      "cell_type": "code",
      "metadata": {
        "id": "glp40ygWiEr2"
      },
      "source": [
        "# 查看每一筆評論內容(index-3，因為index=0,1和2分別是“填充”,“序列開始”,“未知”的保留索引)\n",
        "def read_IMDB_text(train_data):\n",
        "  text = ' '.join([reverse_word_index.get(i-3,'START:') for i in train_data])\n",
        "  return text"
      ],
      "execution_count": 7,
      "outputs": []
    },
    {
      "cell_type": "code",
      "metadata": {
        "id": "EAPZPOtTXq97",
        "outputId": "73b58bf6-c937-420b-97a3-103a319f0562",
        "colab": {
          "base_uri": "https://localhost:8080/",
          "height": 285
        }
      },
      "source": [
        "df['TRAIN_text'] = df['TRAIN_text_to_sequence'].apply(read_IMDB_text)\n",
        "df['TEST_text'] = df['TEST_text_to_sequence'].apply(read_IMDB_text)\n",
        "df.head()"
      ],
      "execution_count": 8,
      "outputs": [
        {
          "output_type": "execute_result",
          "data": {
            "text/html": [
              "<div>\n",
              "<style scoped>\n",
              "    .dataframe tbody tr th:only-of-type {\n",
              "        vertical-align: middle;\n",
              "    }\n",
              "\n",
              "    .dataframe tbody tr th {\n",
              "        vertical-align: top;\n",
              "    }\n",
              "\n",
              "    .dataframe thead th {\n",
              "        text-align: right;\n",
              "    }\n",
              "</style>\n",
              "<table border=\"1\" class=\"dataframe\">\n",
              "  <thead>\n",
              "    <tr style=\"text-align: right;\">\n",
              "      <th></th>\n",
              "      <th>TRAIN_text_to_sequence</th>\n",
              "      <th>TEST_text_to_sequence</th>\n",
              "      <th>TRAIN_text</th>\n",
              "      <th>TEST_text</th>\n",
              "    </tr>\n",
              "  </thead>\n",
              "  <tbody>\n",
              "    <tr>\n",
              "      <th>0</th>\n",
              "      <td>[1, 14, 22, 16, 43, 530, 973, 1622, 1385, 65, ...</td>\n",
              "      <td>[1, 591, 202, 14, 31, 6, 717, 10, 10, 2, 2, 5,...</td>\n",
              "      <td>START: this film was just brilliant casting lo...</td>\n",
              "      <td>START: please give this one a miss br br START...</td>\n",
              "    </tr>\n",
              "    <tr>\n",
              "      <th>1</th>\n",
              "      <td>[1, 194, 1153, 194, 8255, 78, 228, 5, 6, 1463,...</td>\n",
              "      <td>[1, 14, 22, 3443, 6, 176, 7, 5063, 88, 12, 267...</td>\n",
              "      <td>START: big hair big boobs bad music and a gian...</td>\n",
              "      <td>START: this film requires a lot of patience be...</td>\n",
              "    </tr>\n",
              "    <tr>\n",
              "      <th>2</th>\n",
              "      <td>[1, 14, 47, 8, 30, 31, 7, 4, 249, 108, 7, 4, 5...</td>\n",
              "      <td>[1, 111, 748, 4368, 1133, 2, 2, 4, 87, 1551, 1...</td>\n",
              "      <td>START: this has to be one of the worst films o...</td>\n",
              "      <td>START: many animation buffs consider START: ST...</td>\n",
              "    </tr>\n",
              "    <tr>\n",
              "      <th>3</th>\n",
              "      <td>[1, 4, 2, 2, 33, 2804, 4, 2040, 432, 111, 153,...</td>\n",
              "      <td>[1, 13, 1228, 119, 14, 552, 7, 20, 190, 14, 58...</td>\n",
              "      <td>START: the START: START: at storytelling the t...</td>\n",
              "      <td>START: i generally love this type of movie how...</td>\n",
              "    </tr>\n",
              "    <tr>\n",
              "      <th>4</th>\n",
              "      <td>[1, 249, 1323, 7, 61, 113, 10, 10, 13, 1637, 1...</td>\n",
              "      <td>[1, 40, 49, 85, 84, 1040, 146, 6, 783, 254, 43...</td>\n",
              "      <td>START: worst mistake of my life br br i picked...</td>\n",
              "      <td>START: like some other people wrote i'm a die ...</td>\n",
              "    </tr>\n",
              "  </tbody>\n",
              "</table>\n",
              "</div>"
            ],
            "text/plain": [
              "                              TRAIN_text_to_sequence  ...                                          TEST_text\n",
              "0  [1, 14, 22, 16, 43, 530, 973, 1622, 1385, 65, ...  ...  START: please give this one a miss br br START...\n",
              "1  [1, 194, 1153, 194, 8255, 78, 228, 5, 6, 1463,...  ...  START: this film requires a lot of patience be...\n",
              "2  [1, 14, 47, 8, 30, 31, 7, 4, 249, 108, 7, 4, 5...  ...  START: many animation buffs consider START: ST...\n",
              "3  [1, 4, 2, 2, 33, 2804, 4, 2040, 432, 111, 153,...  ...  START: i generally love this type of movie how...\n",
              "4  [1, 249, 1323, 7, 61, 113, 10, 10, 13, 1637, 1...  ...  START: like some other people wrote i'm a die ...\n",
              "\n",
              "[5 rows x 4 columns]"
            ]
          },
          "metadata": {
            "tags": []
          },
          "execution_count": 8
        }
      ]
    },
    {
      "cell_type": "code",
      "metadata": {
        "id": "0zv6hzdMBEyL",
        "outputId": "d35c00ae-260b-480f-9ea1-33fee25759b8",
        "colab": {
          "base_uri": "https://localhost:8080/"
        }
      },
      "source": [
        "# 觀察每一筆評論的長度\n",
        "for seq in df['TRAIN_text_to_sequence'][:5]:\n",
        "  print(len(seq), seq[:5], ' ...')"
      ],
      "execution_count": 9,
      "outputs": [
        {
          "output_type": "stream",
          "text": [
            "218 [1, 14, 22, 16, 43]  ...\n",
            "189 [1, 194, 1153, 194, 8255]  ...\n",
            "141 [1, 14, 47, 8, 30]  ...\n",
            "550 [1, 4, 2, 2, 33]  ...\n",
            "147 [1, 249, 1323, 7, 61]  ...\n"
          ],
          "name": "stdout"
        }
      ]
    },
    {
      "cell_type": "code",
      "metadata": {
        "id": "8ppWZVb4N-QM",
        "outputId": "2e58a202-7d40-4a9e-a09e-4e4f8d5b6fbe",
        "colab": {
          "base_uri": "https://localhost:8080/"
        }
      },
      "source": [
        "# 最長評論的長度\n",
        "max_seq_len = max([len(seq) for seq in df['TRAIN_text_to_sequence']])\n",
        "max_seq_len"
      ],
      "execution_count": 10,
      "outputs": [
        {
          "output_type": "execute_result",
          "data": {
            "text/plain": [
              "2494"
            ]
          },
          "metadata": {
            "tags": []
          },
          "execution_count": 10
        }
      ]
    },
    {
      "cell_type": "code",
      "metadata": {
        "id": "ooFkxOjlBzWd",
        "outputId": "137a6580-a54c-443f-a753-1b5e38f5da7a",
        "colab": {
          "base_uri": "https://localhost:8080/"
        }
      },
      "source": [
        "# 評論長度的平均值\n",
        "max_seq_len = np.mean([len(seq) for seq in df['TRAIN_text_to_sequence']])\n",
        "max_seq_len"
      ],
      "execution_count": 11,
      "outputs": [
        {
          "output_type": "execute_result",
          "data": {
            "text/plain": [
              "238.71364"
            ]
          },
          "metadata": {
            "tags": []
          },
          "execution_count": 11
        }
      ]
    },
    {
      "cell_type": "code",
      "metadata": {
        "id": "4cAEXxbcXq7w",
        "outputId": "b148dfde-e76a-4e46-a044-ed863f793fe4",
        "colab": {
          "base_uri": "https://localhost:8080/",
          "height": 259
        }
      },
      "source": [
        "# 序列的 Zero Padding\n",
        "MAX_SEQUENCE_LENGTH = 240\n",
        "X_train = keras.preprocessing.sequence.pad_sequences(train_data,maxlen=MAX_SEQUENCE_LENGTH)\n",
        "Y_train = keras.utils.to_categorical(train_labels)\n",
        "\n",
        "display(X_train)\n",
        "display(Y_train)"
      ],
      "execution_count": 12,
      "outputs": [
        {
          "output_type": "display_data",
          "data": {
            "text/plain": [
              "array([[   0,    0,    0, ...,   19,  178,   32],\n",
              "       [   0,    0,    0, ...,   16,  145,   95],\n",
              "       [   0,    0,    0, ...,    7,  129,  113],\n",
              "       ...,\n",
              "       [   0,    0,    0, ...,    4, 3586,    2],\n",
              "       [   0,    0,    0, ...,   12,    9,   23],\n",
              "       [   0,    0,    0, ...,  204,  131,    9]], dtype=int32)"
            ]
          },
          "metadata": {
            "tags": []
          }
        },
        {
          "output_type": "display_data",
          "data": {
            "text/plain": [
              "array([[0., 1.],\n",
              "       [1., 0.],\n",
              "       [1., 0.],\n",
              "       ...,\n",
              "       [1., 0.],\n",
              "       [0., 1.],\n",
              "       [1., 0.]], dtype=float32)"
            ]
          },
          "metadata": {
            "tags": []
          }
        }
      ]
    },
    {
      "cell_type": "code",
      "metadata": {
        "id": "GkSHJRNOdSE-",
        "outputId": "dba220dd-b7b4-477d-9e45-368cddea999f",
        "colab": {
          "base_uri": "https://localhost:8080/",
          "height": 52
        }
      },
      "source": [
        "display(X_train.shape)\n",
        "display(Y_train.shape)"
      ],
      "execution_count": 13,
      "outputs": [
        {
          "output_type": "display_data",
          "data": {
            "text/plain": [
              "(25000, 240)"
            ]
          },
          "metadata": {
            "tags": []
          }
        },
        {
          "output_type": "display_data",
          "data": {
            "text/plain": [
              "(25000, 2)"
            ]
          },
          "metadata": {
            "tags": []
          }
        }
      ]
    },
    {
      "cell_type": "code",
      "metadata": {
        "id": "1zBVdKN6Q7xH",
        "outputId": "2e213bb1-90bb-45d7-d811-003ceeaa2ae0",
        "colab": {
          "base_uri": "https://localhost:8080/"
        }
      },
      "source": [
        "VALIDATION_RATIO = 0.2\n",
        "\n",
        "RANDOM_STATE = 914\n",
        "\n",
        "x_train, x_val, y_train, y_val = train_test_split(X_train, Y_train, test_size=VALIDATION_RATIO, random_state=RANDOM_STATE)\n",
        "\n",
        "print(x_train.shape)\n",
        "print(x_val.shape)\n",
        "print(y_train.shape)\n",
        "print(y_val.shape)"
      ],
      "execution_count": 14,
      "outputs": [
        {
          "output_type": "stream",
          "text": [
            "(20000, 240)\n",
            "(5000, 240)\n",
            "(20000, 2)\n",
            "(5000, 2)\n"
          ],
          "name": "stdout"
        }
      ]
    },
    {
      "cell_type": "code",
      "metadata": {
        "id": "flvajDMWnWfH"
      },
      "source": [
        "# 基本參數設置，有幾個分類\n",
        "NUM_CLASSES = 2\n",
        "\n",
        "# 在語料庫裡有多少詞彙\n",
        "MAX_NUM_WORDS = 40000\n",
        "\n",
        "# 一個詞向量的維度\n",
        "NUM_EMBEDDING_DIM = 256\n",
        "\n",
        "# Dense層輸出的向量維度\n",
        "NUM_DENSE_UNITS = 256\n",
        "\n",
        "# LSTM 輸出的向量維度\n",
        "NUM_LSTM_UNITS = 128\n",
        "\n",
        "# 決定一次要放多少成對標題給模型訓練\n",
        "BATCH_SIZE = 512\n",
        "\n",
        "# 決定模型要看整個訓練資料集幾遍\n",
        "NUM_EPOCHS = 20"
      ],
      "execution_count": 32,
      "outputs": []
    },
    {
      "cell_type": "code",
      "metadata": {
        "id": "NOa0py9Bj1L4"
      },
      "source": [
        "# # 建立 LSTM 架構\n",
        "# from keras import Input\n",
        "# from keras.layers import Embedding, LSTM, concatenate, Dense, Dropout\n",
        "# from keras.models import Model\n",
        "\n",
        "# # 定義模型輸入，評論是一個長度為 200 的數字序列\n",
        "# data_input = Input(shape=(MAX_SEQUENCE_LENGTH, ), dtype='int32')\n",
        "\n",
        "# # word embedding，把文字轉成一個詞向量的序列，而每個詞向量的維度為256\n",
        "# embedding_layer = Embedding(MAX_NUM_WORDS, NUM_EMBEDDING_DIM)\n",
        "# data_embedded = embedding_layer(data_input)\n",
        "\n",
        "\n",
        "\n",
        "# # LSTM層，評論經過此層後為一個 128 維度向量\n",
        "# lstm = LSTM(NUM_LSTM_UNITS)\n",
        "# data_output = lstm(data_embedded)\n",
        "\n",
        "# # dense層 + sigmoid活化函式，可以回傳 2 個分類，屬於各類別的可能機率\n",
        "# dense =  Dense(units=NUM_CLASSES, activation='sigmoid')\n",
        "# predictions = dense(data_output)\n",
        "\n",
        "# # 彙整模型\n",
        "# model = Model(inputs=[data_input], outputs=predictions)"
      ],
      "execution_count": 16,
      "outputs": []
    },
    {
      "cell_type": "code",
      "metadata": {
        "id": "4qev7B-8xRH0"
      },
      "source": [
        "model = Sequential()                   # 線性model\n",
        "model.add(Embedding(MAX_NUM_WORDS, NUM_EMBEDDING_DIM, input_length=MAX_SEQUENCE_LENGTH))  # word embedding\n",
        "model.add(Dropout(0.2))                  # 訓練期間drop掉20%神經元\n",
        "model.add(LSTM(NUM_LSTM_UNITS))              # LSTM層輸出128個神經元\n",
        "model.add(Dense(units=NUM_DENSE_UNITS, activation='relu')) # 隱藏層有256個神經元\n",
        "model.add(Dense(units=NUM_CLASSES, activation='sigmoid')) # 輸出層的活化函式為sigmoid"
      ],
      "execution_count": 33,
      "outputs": []
    },
    {
      "cell_type": "code",
      "metadata": {
        "id": "xvysVX5Wl3M2",
        "outputId": "57700d1b-c348-47aa-8751-b32ace8c51ac",
        "colab": {
          "base_uri": "https://localhost:8080/",
          "height": 98
        }
      },
      "source": [
        "plot_model(\n",
        "  model, \n",
        "  # to_file='model.png', \n",
        "  show_shapes=True, \n",
        "  show_layer_names=False, \n",
        "  rankdir='LR')"
      ],
      "execution_count": 34,
      "outputs": [
        {
          "output_type": "execute_result",
          "data": {
            "image/png": "[encoded data removed]",
            "text/plain": [
              "<IPython.core.display.Image object>"
            ]
          },
          "metadata": {
            "tags": []
          },
          "execution_count": 34
        }
      ]
    },
    {
      "cell_type": "code",
      "metadata": {
        "id": "oq6bqJNcnsgi",
        "outputId": "065f5641-55c1-47c1-8d42-f33e70fd4434",
        "colab": {
          "base_uri": "https://localhost:8080/"
        }
      },
      "source": [
        "model.summary()"
      ],
      "execution_count": 35,
      "outputs": [
        {
          "output_type": "stream",
          "text": [
            "Model: \"sequential_1\"\n",
            "_________________________________________________________________\n",
            "Layer (type)                 Output Shape              Param #   \n",
            "=================================================================\n",
            "embedding_1 (Embedding)      (None, 240, 256)          10240000  \n",
            "_________________________________________________________________\n",
            "dropout_1 (Dropout)          (None, 240, 256)          0         \n",
            "_________________________________________________________________\n",
            "lstm_1 (LSTM)                (None, 128)               197120    \n",
            "_________________________________________________________________\n",
            "dense_2 (Dense)              (None, 256)               33024     \n",
            "_________________________________________________________________\n",
            "dense_3 (Dense)              (None, 2)                 514       \n",
            "=================================================================\n",
            "Total params: 10,470,658\n",
            "Trainable params: 10,470,658\n",
            "Non-trainable params: 0\n",
            "_________________________________________________________________\n"
          ],
          "name": "stdout"
        }
      ]
    },
    {
      "cell_type": "code",
      "metadata": {
        "id": "saGeUOdLnw-e"
      },
      "source": [
        "model.compile(\n",
        "  optimizer='adam',\n",
        "  loss='binary_crossentropy',\n",
        "  metrics=['accuracy'])"
      ],
      "execution_count": 36,
      "outputs": []
    },
    {
      "cell_type": "code",
      "metadata": {
        "id": "TzDdiEVPnyzy",
        "outputId": "263290a5-3912-4f0b-a76b-0812f6826d2f",
        "colab": {
          "base_uri": "https://localhost:8080/"
        }
      },
      "source": [
        "# 實際訓練模型\n",
        "history = model.fit(\n",
        "  # 輸入是兩個長度為 MAX_SEQUENCE_LENGTH 的數字序列\n",
        "  x = x_train, \n",
        "  y = y_train,\n",
        "  batch_size = BATCH_SIZE,\n",
        "  epochs = NUM_EPOCHS,\n",
        "  # 每個 epoch 完後計算驗證資料集\n",
        "  # 上的 Loss 以及準確度\n",
        "  validation_data=(\n",
        "      x_val, \n",
        "      y_val\n",
        "  ),\n",
        "  # 每個 epoch 隨機調整訓練資料集\n",
        "  # 裡頭的數據以讓訓練過程更穩定\n",
        "  shuffle=True\n",
        ")"
      ],
      "execution_count": 37,
      "outputs": [
        {
          "output_type": "stream",
          "text": [
            "Epoch 1/20\n",
            "40/40 [==============================] - 9s 225ms/step - loss: 0.6202 - accuracy: 0.6640 - val_loss: 0.4395 - val_accuracy: 0.7952\n",
            "Epoch 2/20\n",
            "40/40 [==============================] - 9s 214ms/step - loss: 0.3179 - accuracy: 0.8654 - val_loss: 0.3278 - val_accuracy: 0.8644\n",
            "Epoch 3/20\n",
            "40/40 [==============================] - 9s 213ms/step - loss: 0.2041 - accuracy: 0.9237 - val_loss: 0.3572 - val_accuracy: 0.8676\n",
            "Epoch 4/20\n",
            "40/40 [==============================] - 9s 217ms/step - loss: 0.1587 - accuracy: 0.9430 - val_loss: 0.3456 - val_accuracy: 0.8728\n",
            "Epoch 5/20\n",
            "40/40 [==============================] - 9s 214ms/step - loss: 0.1059 - accuracy: 0.9651 - val_loss: 0.3739 - val_accuracy: 0.8706\n",
            "Epoch 6/20\n",
            "40/40 [==============================] - 9s 214ms/step - loss: 0.0776 - accuracy: 0.9754 - val_loss: 0.4242 - val_accuracy: 0.8662\n",
            "Epoch 7/20\n",
            "40/40 [==============================] - 9s 216ms/step - loss: 0.0739 - accuracy: 0.9739 - val_loss: 0.4609 - val_accuracy: 0.8648\n",
            "Epoch 8/20\n",
            "40/40 [==============================] - 9s 217ms/step - loss: 0.0421 - accuracy: 0.9869 - val_loss: 0.6732 - val_accuracy: 0.8602\n",
            "Epoch 9/20\n",
            "40/40 [==============================] - 9s 217ms/step - loss: 0.0484 - accuracy: 0.9826 - val_loss: 0.6267 - val_accuracy: 0.8666\n",
            "Epoch 10/20\n",
            "40/40 [==============================] - 9s 217ms/step - loss: 0.0290 - accuracy: 0.9908 - val_loss: 0.7341 - val_accuracy: 0.8596\n",
            "Epoch 11/20\n",
            "40/40 [==============================] - 9s 214ms/step - loss: 0.0338 - accuracy: 0.9887 - val_loss: 0.6452 - val_accuracy: 0.8642\n",
            "Epoch 12/20\n",
            "40/40 [==============================] - 9s 215ms/step - loss: 0.0201 - accuracy: 0.9938 - val_loss: 0.8119 - val_accuracy: 0.8618\n",
            "Epoch 13/20\n",
            "40/40 [==============================] - 9s 215ms/step - loss: 0.0292 - accuracy: 0.9900 - val_loss: 0.8488 - val_accuracy: 0.8590\n",
            "Epoch 14/20\n",
            "40/40 [==============================] - 9s 215ms/step - loss: 0.0104 - accuracy: 0.9966 - val_loss: 0.8962 - val_accuracy: 0.8436\n",
            "Epoch 15/20\n",
            "40/40 [==============================] - 9s 217ms/step - loss: 0.0243 - accuracy: 0.9929 - val_loss: 0.9766 - val_accuracy: 0.8438\n",
            "Epoch 16/20\n",
            "40/40 [==============================] - 9s 219ms/step - loss: 0.0344 - accuracy: 0.9891 - val_loss: 0.7098 - val_accuracy: 0.8548\n",
            "Epoch 17/20\n",
            "40/40 [==============================] - 8s 212ms/step - loss: 0.0142 - accuracy: 0.9954 - val_loss: 0.8587 - val_accuracy: 0.8524\n",
            "Epoch 18/20\n",
            "40/40 [==============================] - 9s 217ms/step - loss: 0.0106 - accuracy: 0.9968 - val_loss: 1.1030 - val_accuracy: 0.8544\n",
            "Epoch 19/20\n",
            "40/40 [==============================] - 9s 216ms/step - loss: 0.0298 - accuracy: 0.9900 - val_loss: 0.7667 - val_accuracy: 0.8570\n",
            "Epoch 20/20\n",
            "40/40 [==============================] - 9s 215ms/step - loss: 0.0178 - accuracy: 0.9946 - val_loss: 0.8077 - val_accuracy: 0.8550\n"
          ],
          "name": "stdout"
        }
      ]
    },
    {
      "cell_type": "code",
      "metadata": {
        "id": "JjDkr0oFPjzj"
      },
      "source": [
        "import matplotlib.pyplot as plt\n",
        "%matplotlib inline\n",
        "\n",
        "acc = history.history['accuracy']\n",
        "val_acc = history.history['val_accuracy']\n",
        "loss = history.history['loss']\n",
        "val_loss = history.history['val_loss']\n",
        "\n",
        "epochs = range(1, len(acc) + 1)"
      ],
      "execution_count": 38,
      "outputs": []
    },
    {
      "cell_type": "code",
      "metadata": {
        "id": "whcj35cNPP41"
      },
      "source": [
        "def plot_fig(epochs,train,val,train_label,val_label,type):\n",
        "  plt.plot(epochs, train, 'bo', label=train_label)\n",
        "  plt.plot(epochs, val, 'b', label=val_label)\n",
        "  plt.title('Training and validation '+type)\n",
        "  plt.xlabel('Epochs')\n",
        "  plt.ylabel('Loss')\n",
        "  plt.legend()"
      ],
      "execution_count": 39,
      "outputs": []
    },
    {
      "cell_type": "code",
      "metadata": {
        "id": "nMecPXgOQCIT",
        "outputId": "a214d793-7532-4738-9db9-51e7835c05ff",
        "colab": {
          "base_uri": "https://localhost:8080/",
          "height": 295
        }
      },
      "source": [
        "plot_fig(epochs,loss,val_loss,'train loss','validation loss','loss')"
      ],
      "execution_count": 40,
      "outputs": [
        {
          "output_type": "display_data",
          "data": {
            "image/png": "[encoded data removed]",
            "text/plain": [
              "<Figure size 432x288 with 1 Axes>"
            ]
          },
          "metadata": {
            "tags": [],
            "needs_background": "light"
          }
        }
      ]
    },
    {
      "cell_type": "code",
      "metadata": {
        "id": "08QVzvZvQXKa",
        "outputId": "9b6eb0ee-b215-4abc-a40d-efe3f8ba3a31",
        "colab": {
          "base_uri": "https://localhost:8080/",
          "height": 295
        }
      },
      "source": [
        "plot_fig(epochs,acc,val_acc,'train acc','validation acc','acc')"
      ],
      "execution_count": 41,
      "outputs": [
        {
          "output_type": "display_data",
          "data": {
            "image/png": "[encoded data removed]",
            "text/plain": [
              "<Figure size 432x288 with 1 Axes>"
            ]
          },
          "metadata": {
            "tags": [],
            "needs_background": "light"
          }
        }
      ]
    },
    {
      "cell_type": "code",
      "metadata": {
        "id": "5G40DdqjqLxt"
      },
      "source": [
        "x_test = keras.preprocessing.sequence.pad_sequences(test_data, maxlen=MAX_SEQUENCE_LENGTH)  "
      ],
      "execution_count": 42,
      "outputs": []
    },
    {
      "cell_type": "code",
      "metadata": {
        "id": "F5jAtomBoH1o"
      },
      "source": [
        "# 利用已訓練的模型做預測\n",
        "predictions = model.predict([x_test])"
      ],
      "execution_count": 43,
      "outputs": []
    },
    {
      "cell_type": "code",
      "metadata": {
        "id": "PxCFapKFp_08",
        "outputId": "8f4ad101-112f-4ad4-e665-847ab5e34eed",
        "colab": {
          "base_uri": "https://localhost:8080/",
          "height": 580
        }
      },
      "source": [
        "df['IMDB_label_ans'] = test_labels\n",
        "df['test_predict'] = np.argmax(predictions, axis=1)\n",
        "df"
      ],
      "execution_count": 44,
      "outputs": [
        {
          "output_type": "execute_result",
          "data": {
            "text/html": [
              "<div>\n",
              "<style scoped>\n",
              "    .dataframe tbody tr th:only-of-type {\n",
              "        vertical-align: middle;\n",
              "    }\n",
              "\n",
              "    .dataframe tbody tr th {\n",
              "        vertical-align: top;\n",
              "    }\n",
              "\n",
              "    .dataframe thead th {\n",
              "        text-align: right;\n",
              "    }\n",
              "</style>\n",
              "<table border=\"1\" class=\"dataframe\">\n",
              "  <thead>\n",
              "    <tr style=\"text-align: right;\">\n",
              "      <th></th>\n",
              "      <th>TRAIN_text_to_sequence</th>\n",
              "      <th>TEST_text_to_sequence</th>\n",
              "      <th>TRAIN_text</th>\n",
              "      <th>TEST_text</th>\n",
              "      <th>IMDB_label_ans</th>\n",
              "      <th>test_predict</th>\n",
              "    </tr>\n",
              "  </thead>\n",
              "  <tbody>\n",
              "    <tr>\n",
              "      <th>0</th>\n",
              "      <td>[1, 14, 22, 16, 43, 530, 973, 1622, 1385, 65, ...</td>\n",
              "      <td>[1, 591, 202, 14, 31, 6, 717, 10, 10, 2, 2, 5,...</td>\n",
              "      <td>START: this film was just brilliant casting lo...</td>\n",
              "      <td>START: please give this one a miss br br START...</td>\n",
              "      <td>0</td>\n",
              "      <td>0</td>\n",
              "    </tr>\n",
              "    <tr>\n",
              "      <th>1</th>\n",
              "      <td>[1, 194, 1153, 194, 8255, 78, 228, 5, 6, 1463,...</td>\n",
              "      <td>[1, 14, 22, 3443, 6, 176, 7, 5063, 88, 12, 267...</td>\n",
              "      <td>START: big hair big boobs bad music and a gian...</td>\n",
              "      <td>START: this film requires a lot of patience be...</td>\n",
              "      <td>1</td>\n",
              "      <td>1</td>\n",
              "    </tr>\n",
              "    <tr>\n",
              "      <th>2</th>\n",
              "      <td>[1, 14, 47, 8, 30, 31, 7, 4, 249, 108, 7, 4, 5...</td>\n",
              "      <td>[1, 111, 748, 4368, 1133, 2, 2, 4, 87, 1551, 1...</td>\n",
              "      <td>START: this has to be one of the worst films o...</td>\n",
              "      <td>START: many animation buffs consider START: ST...</td>\n",
              "      <td>1</td>\n",
              "      <td>0</td>\n",
              "    </tr>\n",
              "    <tr>\n",
              "      <th>3</th>\n",
              "      <td>[1, 4, 2, 2, 33, 2804, 4, 2040, 432, 111, 153,...</td>\n",
              "      <td>[1, 13, 1228, 119, 14, 552, 7, 20, 190, 14, 58...</td>\n",
              "      <td>START: the START: START: at storytelling the t...</td>\n",
              "      <td>START: i generally love this type of movie how...</td>\n",
              "      <td>0</td>\n",
              "      <td>1</td>\n",
              "    </tr>\n",
              "    <tr>\n",
              "      <th>4</th>\n",
              "      <td>[1, 249, 1323, 7, 61, 113, 10, 10, 13, 1637, 1...</td>\n",
              "      <td>[1, 40, 49, 85, 84, 1040, 146, 6, 783, 254, 43...</td>\n",
              "      <td>START: worst mistake of my life br br i picked...</td>\n",
              "      <td>START: like some other people wrote i'm a die ...</td>\n",
              "      <td>1</td>\n",
              "      <td>1</td>\n",
              "    </tr>\n",
              "    <tr>\n",
              "      <th>...</th>\n",
              "      <td>...</td>\n",
              "      <td>...</td>\n",
              "      <td>...</td>\n",
              "      <td>...</td>\n",
              "      <td>...</td>\n",
              "      <td>...</td>\n",
              "    </tr>\n",
              "    <tr>\n",
              "      <th>24995</th>\n",
              "      <td>[1, 14, 9, 6, 2758, 20, 21, 1517, 7, 2078, 5, ...</td>\n",
              "      <td>[1, 4, 274, 9, 128, 74, 4, 22, 669, 88, 7, 4, ...</td>\n",
              "      <td>START: this is a racist movie but worthy of st...</td>\n",
              "      <td>START: the book is better than the film mostly...</td>\n",
              "      <td>1</td>\n",
              "      <td>1</td>\n",
              "    </tr>\n",
              "    <tr>\n",
              "      <th>24996</th>\n",
              "      <td>[1, 4679, 2784, 299, 6, 1042, 37, 80, 81, 233,...</td>\n",
              "      <td>[1, 4, 9212, 2293, 8, 126, 67, 6, 4210, 1494, ...</td>\n",
              "      <td>START: bela lugosi plays a doctor who will do ...</td>\n",
              "      <td>START: the largest crowd to ever see a wrestli...</td>\n",
              "      <td>1</td>\n",
              "      <td>1</td>\n",
              "    </tr>\n",
              "    <tr>\n",
              "      <th>24997</th>\n",
              "      <td>[1, 11, 6, 230, 245, 6401, 9, 6, 1225, 446, 2,...</td>\n",
              "      <td>[1, 13, 1408, 15, 8, 135, 14, 9, 35, 32, 46, 3...</td>\n",
              "      <td>START: in a far away galaxy is a planet called...</td>\n",
              "      <td>START: i suppose that to say this is an all ou...</td>\n",
              "      <td>0</td>\n",
              "      <td>0</td>\n",
              "    </tr>\n",
              "    <tr>\n",
              "      <th>24998</th>\n",
              "      <td>[1, 1446, 7079, 69, 72, 3305, 13, 610, 930, 8,...</td>\n",
              "      <td>[1, 11, 119, 241, 9, 4, 840, 20, 12, 468, 15, ...</td>\n",
              "      <td>START: six degrees had me hooked i looked forw...</td>\n",
              "      <td>START: in love 2 is the third movie it seemed ...</td>\n",
              "      <td>0</td>\n",
              "      <td>0</td>\n",
              "    </tr>\n",
              "    <tr>\n",
              "      <th>24999</th>\n",
              "      <td>[1, 17, 6, 194, 337, 7, 4, 204, 22, 45, 254, 8...</td>\n",
              "      <td>[1, 6, 52, 7465, 430, 22, 9, 220, 2594, 8, 28,...</td>\n",
              "      <td>START: as a big fan of the original film it's ...</td>\n",
              "      <td>START: a good ol' boy film is almost required ...</td>\n",
              "      <td>0</td>\n",
              "      <td>1</td>\n",
              "    </tr>\n",
              "  </tbody>\n",
              "</table>\n",
              "<p>25000 rows × 6 columns</p>\n",
              "</div>"
            ],
            "text/plain": [
              "                                  TRAIN_text_to_sequence  ... test_predict\n",
              "0      [1, 14, 22, 16, 43, 530, 973, 1622, 1385, 65, ...  ...            0\n",
              "1      [1, 194, 1153, 194, 8255, 78, 228, 5, 6, 1463,...  ...            1\n",
              "2      [1, 14, 47, 8, 30, 31, 7, 4, 249, 108, 7, 4, 5...  ...            0\n",
              "3      [1, 4, 2, 2, 33, 2804, 4, 2040, 432, 111, 153,...  ...            1\n",
              "4      [1, 249, 1323, 7, 61, 113, 10, 10, 13, 1637, 1...  ...            1\n",
              "...                                                  ...  ...          ...\n",
              "24995  [1, 14, 9, 6, 2758, 20, 21, 1517, 7, 2078, 5, ...  ...            1\n",
              "24996  [1, 4679, 2784, 299, 6, 1042, 37, 80, 81, 233,...  ...            1\n",
              "24997  [1, 11, 6, 230, 245, 6401, 9, 6, 1225, 446, 2,...  ...            0\n",
              "24998  [1, 1446, 7079, 69, 72, 3305, 13, 610, 930, 8,...  ...            0\n",
              "24999  [1, 17, 6, 194, 337, 7, 4, 204, 22, 45, 254, 8...  ...            1\n",
              "\n",
              "[25000 rows x 6 columns]"
            ]
          },
          "metadata": {
            "tags": []
          },
          "execution_count": 44
        }
      ]
    },
    {
      "cell_type": "code",
      "metadata": {
        "id": "CJG8IBumqZPb",
        "outputId": "b89f1c1c-09f2-4444-8c9c-6f894efc085a",
        "colab": {
          "base_uri": "https://localhost:8080/"
        }
      },
      "source": [
        "pred_acc = df[df['IMDB_label_ans']==df['test_predict']].count()[0]/df.shape[0]\n",
        "pred_acc"
      ],
      "execution_count": 45,
      "outputs": [
        {
          "output_type": "execute_result",
          "data": {
            "text/plain": [
              "0.84208"
            ]
          },
          "metadata": {
            "tags": []
          },
          "execution_count": 45
        }
      ]
    },
    {
      "cell_type": "code",
      "metadata": {
        "id": "TY0QGdf6qpJm"
      },
      "source": [
        ""
      ],
      "execution_count": 31,
      "outputs": []
    }
  ]
}